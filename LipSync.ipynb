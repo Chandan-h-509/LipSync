{
  "nbformat": 4,
  "nbformat_minor": 0,
  "metadata": {
    "colab": {
      "provenance": [],
      "include_colab_link": true
    },
    "kernelspec": {
      "name": "python3",
      "display_name": "Python 3"
    },
    "accelerator": "GPU"
  },
  "cells": [
    {
      "cell_type": "markdown",
      "metadata": {
        "id": "view-in-github",
        "colab_type": "text"
      },
      "source": [
        "<a href=\"https://colab.research.google.com/github/Chandan-h-509/LipSync/blob/main/LipSync.ipynb\" target=\"_parent\"><img src=\"https://colab.research.google.com/assets/colab-badge.svg\" alt=\"Open In Colab\"/></a>"
      ]
    },
    {
      "cell_type": "markdown",
      "metadata": {
        "id": "vSQFs_G8caeE"
      },
      "source": [
        "# Collab preliminaries"
      ]
    },
    {
      "cell_type": "code",
      "metadata": {
        "id": "XIVB0Xn1g6ih",
        "colab": {
          "base_uri": "https://localhost:8080/"
        },
        "outputId": "a1533211-dc42-4136-8024-97dfbf862bae"
      },
      "source": [
        "!nvcc --version"
      ],
      "execution_count": 1,
      "outputs": [
        {
          "output_type": "stream",
          "name": "stdout",
          "text": [
            "nvcc: NVIDIA (R) Cuda compiler driver\n",
            "Copyright (c) 2005-2022 NVIDIA Corporation\n",
            "Built on Wed_Sep_21_10:33:58_PDT_2022\n",
            "Cuda compilation tools, release 11.8, V11.8.89\n",
            "Build cuda_11.8.r11.8/compiler.31833905_0\n"
          ]
        }
      ]
    },
    {
      "cell_type": "code",
      "metadata": {
        "id": "qciH4PsUazL_",
        "colab": {
          "base_uri": "https://localhost:8080/"
        },
        "outputId": "ee82219b-2677-409e-97fa-ec9d6d63152a"
      },
      "source": [
        "from google.colab import drive\n",
        "drive.mount('/content/gdrive')"
      ],
      "execution_count": 3,
      "outputs": [
        {
          "output_type": "stream",
          "name": "stdout",
          "text": [
            "Mounted at /content/gdrive\n"
          ]
        }
      ]
    },
    {
      "cell_type": "markdown",
      "metadata": {
        "id": "yJ5taGmPcWV-"
      },
      "source": [
        "# Get the code and models"
      ]
    },
    {
      "cell_type": "code",
      "metadata": {
        "id": "P3LihClHbUd3",
        "colab": {
          "base_uri": "https://localhost:8080/"
        },
        "outputId": "d7096285-2bcf-463a-c38c-02c1e6c86fd9"
      },
      "source": [
        "!git clone https://github.com/Rudrabha/Wav2Lip.git"
      ],
      "execution_count": 4,
      "outputs": [
        {
          "output_type": "stream",
          "name": "stdout",
          "text": [
            "Cloning into 'Wav2Lip'...\n",
            "remote: Enumerating objects: 363, done.\u001b[K\n",
            "remote: Counting objects: 100% (3/3), done.\u001b[K\n",
            "remote: Compressing objects: 100% (3/3), done.\u001b[K\n",
            "remote: Total 363 (delta 0), reused 1 (delta 0), pack-reused 360\u001b[K\n",
            "Receiving objects: 100% (363/363), 528.20 KiB | 4.03 MiB/s, done.\n",
            "Resolving deltas: 100% (198/198), done.\n"
          ]
        }
      ]
    },
    {
      "cell_type": "code",
      "metadata": {
        "id": "y-19nzx8SamJ",
        "colab": {
          "base_uri": "https://localhost:8080/"
        },
        "outputId": "289c9729-f149-4aa6-8c15-6893a2151622"
      },
      "source": [
        "!ls /content/gdrive/MyDrive/Wav2Lip"
      ],
      "execution_count": 5,
      "outputs": [
        {
          "output_type": "stream",
          "name": "stdout",
          "text": [
            "ai.wav\t   kennedy.mp4\tmona.mp4      test1.mp4  test.mp4\n",
            "ENG_M.wav  modi.mp4\toutput10.wav  test2.mp4\n"
          ]
        }
      ]
    },
    {
      "cell_type": "code",
      "metadata": {
        "id": "YjzMPy_Sb0AI"
      },
      "source": [
        "!cp -ri \"/content/gdrive/MyDrive/Wav2lip/wav2lip_gan.pth\" /content/Wav2Lip/checkpoints/"
      ],
      "execution_count": 6,
      "outputs": []
    },
    {
      "cell_type": "markdown",
      "metadata": {
        "id": "aWTaOS3ncFt6"
      },
      "source": [
        "# Get the pre-requisites"
      ]
    },
    {
      "cell_type": "code",
      "metadata": {
        "id": "Ooh28vw-Uvd3",
        "colab": {
          "base_uri": "https://localhost:8080/"
        },
        "outputId": "ecbbbe3b-bbfe-4278-9815-2fcf8b63bb97"
      },
      "source": [
        "!pip uninstall tensorflow tensorflow-gpu"
      ],
      "execution_count": 7,
      "outputs": [
        {
          "output_type": "stream",
          "name": "stdout",
          "text": [
            "Found existing installation: tensorflow 2.12.0\n",
            "Uninstalling tensorflow-2.12.0:\n",
            "  Would remove:\n",
            "    /usr/local/bin/estimator_ckpt_converter\n",
            "    /usr/local/bin/import_pb_to_tensorboard\n",
            "    /usr/local/bin/saved_model_cli\n",
            "    /usr/local/bin/tensorboard\n",
            "    /usr/local/bin/tf_upgrade_v2\n",
            "    /usr/local/bin/tflite_convert\n",
            "    /usr/local/bin/toco\n",
            "    /usr/local/bin/toco_from_protos\n",
            "    /usr/local/lib/python3.10/dist-packages/tensorflow-2.12.0.dist-info/*\n",
            "    /usr/local/lib/python3.10/dist-packages/tensorflow/*\n",
            "Proceed (Y/n)? y\n",
            "  Successfully uninstalled tensorflow-2.12.0\n",
            "\u001b[33mWARNING: Skipping tensorflow-gpu as it is not installed.\u001b[0m\u001b[33m\n",
            "\u001b[0m"
          ]
        }
      ]
    },
    {
      "cell_type": "code",
      "source": [
        "!pip install --upgrade pip\n",
        "!pip install opencv-python"
      ],
      "metadata": {
        "id": "OmJCm3yDM-3M",
        "outputId": "6cfc2bb1-6dc2-4393-d09b-8f176527a57c",
        "colab": {
          "base_uri": "https://localhost:8080/"
        }
      },
      "execution_count": 8,
      "outputs": [
        {
          "output_type": "stream",
          "name": "stdout",
          "text": [
            "Requirement already satisfied: pip in /usr/local/lib/python3.10/dist-packages (23.1.2)\n",
            "Collecting pip\n",
            "  Downloading pip-23.2-py3-none-any.whl (2.1 MB)\n",
            "\u001b[2K     \u001b[90m━━━━━━━━━━━━━━━━━━━━━━━━━━━━━━━━━━━━━━━━\u001b[0m \u001b[32m2.1/2.1 MB\u001b[0m \u001b[31m28.2 MB/s\u001b[0m eta \u001b[36m0:00:00\u001b[0m\n",
            "\u001b[?25hInstalling collected packages: pip\n",
            "  Attempting uninstall: pip\n",
            "    Found existing installation: pip 23.1.2\n",
            "    Uninstalling pip-23.1.2:\n",
            "      Successfully uninstalled pip-23.1.2\n",
            "Successfully installed pip-23.2\n",
            "Requirement already satisfied: opencv-python in /usr/local/lib/python3.10/dist-packages (4.7.0.72)\n",
            "Requirement already satisfied: numpy>=1.21.2 in /usr/local/lib/python3.10/dist-packages (from opencv-python) (1.22.4)\n",
            "\u001b[33mWARNING: Running pip as the 'root' user can result in broken permissions and conflicting behaviour with the system package manager. It is recommended to use a virtual environment instead: https://pip.pypa.io/warnings/venv\u001b[0m\u001b[33m\n",
            "\u001b[0m"
          ]
        }
      ]
    },
    {
      "cell_type": "code",
      "source": [
        "!pip install opencv-contrib-python"
      ],
      "metadata": {
        "id": "tzaRe5veOjgm",
        "outputId": "390e2645-b021-40e6-ec5a-1459fedbc3d7",
        "colab": {
          "base_uri": "https://localhost:8080/"
        }
      },
      "execution_count": null,
      "outputs": [
        {
          "output_type": "stream",
          "name": "stdout",
          "text": [
            "Requirement already satisfied: opencv-contrib-python in /usr/local/lib/python3.10/dist-packages (4.7.0.72)\n",
            "Requirement already satisfied: numpy>=1.21.2 in /usr/local/lib/python3.10/dist-packages (from opencv-contrib-python) (1.22.4)\n",
            "\u001b[33mWARNING: Running pip as the 'root' user can result in broken permissions and conflicting behaviour with the system package manager. It is recommended to use a virtual environment instead: https://pip.pypa.io/warnings/venv\u001b[0m\u001b[33m\n",
            "\u001b[0m"
          ]
        }
      ]
    },
    {
      "cell_type": "code",
      "source": [
        "!pip install numba"
      ],
      "metadata": {
        "id": "Qi4JzVaWPzhm",
        "outputId": "1fe5ebe0-73c7-4b23-b2ad-f3d965f1da83",
        "colab": {
          "base_uri": "https://localhost:8080/"
        }
      },
      "execution_count": null,
      "outputs": [
        {
          "output_type": "stream",
          "name": "stdout",
          "text": [
            "Requirement already satisfied: numba in /usr/local/lib/python3.10/dist-packages (0.56.4)\n",
            "Requirement already satisfied: llvmlite<0.40,>=0.39.0dev0 in /usr/local/lib/python3.10/dist-packages (from numba) (0.39.1)\n",
            "Requirement already satisfied: numpy<1.24,>=1.18 in /usr/local/lib/python3.10/dist-packages (from numba) (1.22.4)\n",
            "Requirement already satisfied: setuptools in /usr/local/lib/python3.10/dist-packages (from numba) (67.7.2)\n",
            "\u001b[33mWARNING: Running pip as the 'root' user can result in broken permissions and conflicting behaviour with the system package manager. It is recommended to use a virtual environment instead: https://pip.pypa.io/warnings/venv\u001b[0m\u001b[33m\n",
            "\u001b[0m"
          ]
        }
      ]
    },
    {
      "cell_type": "code",
      "metadata": {
        "id": "49dCYlLdcK2D",
        "colab": {
          "base_uri": "https://localhost:8080/"
        },
        "outputId": "aa6c3809-fb66-4a07-bb07-0cb5e224eda3"
      },
      "source": [
        "!cd Wav2Lip && pip install -r requirements.txt"
      ],
      "execution_count": null,
      "outputs": [
        {
          "output_type": "stream",
          "name": "stdout",
          "text": [
            "Collecting librosa==0.7.0 (from -r requirements.txt (line 1))\n",
            "  Using cached librosa-0.7.0.tar.gz (1.6 MB)\n",
            "  Preparing metadata (setup.py) ... \u001b[?25l\u001b[?25hdone\n",
            "Collecting numpy==1.17.1 (from -r requirements.txt (line 2))\n",
            "  Using cached numpy-1.17.1.zip (6.5 MB)\n",
            "  Preparing metadata (setup.py) ... \u001b[?25l\u001b[?25hdone\n",
            "Collecting torch==1.11.0 (from -r requirements.txt (line 3))\n",
            "  Using cached torch-1.11.0-cp310-cp310-manylinux1_x86_64.whl (750.6 MB)\n",
            "Collecting torchvision==0.12.0 (from -r requirements.txt (line 4))\n",
            "  Using cached torchvision-0.12.0-cp310-cp310-manylinux1_x86_64.whl (21.0 MB)\n",
            "Collecting tqdm==4.45.0 (from -r requirements.txt (line 5))\n",
            "  Using cached tqdm-4.45.0-py2.py3-none-any.whl (60 kB)\n",
            "Collecting numba==0.48 (from -r requirements.txt (line 6))\n",
            "  Using cached numba-0.48.0.tar.gz (2.0 MB)\n",
            "  Preparing metadata (setup.py) ... \u001b[?25l\u001b[?25hdone\n",
            "Requirement already satisfied: audioread>=2.0.0 in /usr/local/lib/python3.10/dist-packages (from librosa==0.7.0->-r requirements.txt (line 1)) (3.0.0)\n",
            "Requirement already satisfied: scipy>=1.0.0 in /usr/local/lib/python3.10/dist-packages (from librosa==0.7.0->-r requirements.txt (line 1)) (1.10.1)\n",
            "Requirement already satisfied: scikit-learn!=0.19.0,>=0.14.0 in /usr/local/lib/python3.10/dist-packages (from librosa==0.7.0->-r requirements.txt (line 1)) (1.2.2)\n",
            "Requirement already satisfied: joblib>=0.12 in /usr/local/lib/python3.10/dist-packages (from librosa==0.7.0->-r requirements.txt (line 1)) (1.3.1)\n",
            "Requirement already satisfied: decorator>=3.0.0 in /usr/local/lib/python3.10/dist-packages (from librosa==0.7.0->-r requirements.txt (line 1)) (4.4.2)\n",
            "Requirement already satisfied: six>=1.3 in /usr/local/lib/python3.10/dist-packages (from librosa==0.7.0->-r requirements.txt (line 1)) (1.16.0)\n",
            "Collecting resampy>=0.2.0 (from librosa==0.7.0->-r requirements.txt (line 1))\n",
            "  Using cached resampy-0.4.2-py3-none-any.whl (3.1 MB)\n",
            "Requirement already satisfied: soundfile>=0.9.0 in /usr/local/lib/python3.10/dist-packages (from librosa==0.7.0->-r requirements.txt (line 1)) (0.12.1)\n",
            "Requirement already satisfied: typing-extensions in /usr/local/lib/python3.10/dist-packages (from torch==1.11.0->-r requirements.txt (line 3)) (4.7.1)\n",
            "Requirement already satisfied: requests in /usr/local/lib/python3.10/dist-packages (from torchvision==0.12.0->-r requirements.txt (line 4)) (2.27.1)\n",
            "Requirement already satisfied: pillow!=8.3.*,>=5.3.0 in /usr/local/lib/python3.10/dist-packages (from torchvision==0.12.0->-r requirements.txt (line 4)) (8.4.0)\n",
            "Collecting llvmlite<0.32.0,>=0.31.0dev0 (from numba==0.48->-r requirements.txt (line 6))\n",
            "  Using cached llvmlite-0.31.0.tar.gz (110 kB)\n",
            "  Preparing metadata (setup.py) ... \u001b[?25l\u001b[?25hdone\n",
            "Requirement already satisfied: setuptools in /usr/local/lib/python3.10/dist-packages (from numba==0.48->-r requirements.txt (line 6)) (67.7.2)\n",
            "INFO: pip is looking at multiple versions of resampy to determine which version is compatible with other requirements. This could take a while.\n",
            "Collecting resampy>=0.2.0 (from librosa==0.7.0->-r requirements.txt (line 1))\n",
            "  Downloading resampy-0.4.1-py3-none-any.whl (3.1 MB)\n",
            "\u001b[2K     \u001b[90m━━━━━━━━━━━━━━━━━━━━━━━━━━━━━━━━━━━━━━━━\u001b[0m \u001b[32m3.1/3.1 MB\u001b[0m \u001b[31m55.5 MB/s\u001b[0m eta \u001b[36m0:00:00\u001b[0m\n",
            "\u001b[?25h  Downloading resampy-0.4.0-py3-none-any.whl (3.1 MB)\n",
            "\u001b[2K     \u001b[90m━━━━━━━━━━━━━━━━━━━━━━━━━━━━━━━━━━━━━━━━\u001b[0m \u001b[32m3.1/3.1 MB\u001b[0m \u001b[31m63.8 MB/s\u001b[0m eta \u001b[36m0:00:00\u001b[0m\n",
            "\u001b[?25h  Downloading resampy-0.3.1-py3-none-any.whl (3.1 MB)\n",
            "\u001b[2K     \u001b[90m━━━━━━━━━━━━━━━━━━━━━━━━━━━━━━━━━━━━━━━━\u001b[0m \u001b[32m3.1/3.1 MB\u001b[0m \u001b[31m70.1 MB/s\u001b[0m eta \u001b[36m0:00:00\u001b[0m\n",
            "\u001b[?25hINFO: pip is looking at multiple versions of scikit-learn to determine which version is compatible with other requirements. This could take a while.\n",
            "Collecting scikit-learn!=0.19.0,>=0.14.0 (from librosa==0.7.0->-r requirements.txt (line 1))\n",
            "  Obtaining dependency information for scikit-learn!=0.19.0,>=0.14.0 from https://files.pythonhosted.org/packages/5c/e9/ee572691a3fb05555bcde41826faad29ae4bc1fb07982e7f53d54a176879/scikit_learn-1.3.0-cp310-cp310-manylinux_2_17_x86_64.manylinux2014_x86_64.whl.metadata\n",
            "  Downloading scikit_learn-1.3.0-cp310-cp310-manylinux_2_17_x86_64.manylinux2014_x86_64.whl.metadata (11 kB)\n",
            "  Downloading scikit_learn-1.2.1-cp310-cp310-manylinux_2_17_x86_64.manylinux2014_x86_64.whl (9.6 MB)\n",
            "\u001b[2K     \u001b[90m━━━━━━━━━━━━━━━━━━━━━━━━━━━━━━━━━━━━━━━━\u001b[0m \u001b[32m9.6/9.6 MB\u001b[0m \u001b[31m73.8 MB/s\u001b[0m eta \u001b[36m0:00:00\u001b[0m\n",
            "\u001b[?25h  Downloading scikit_learn-1.2.0-cp310-cp310-manylinux_2_17_x86_64.manylinux2014_x86_64.whl (9.5 MB)\n",
            "\u001b[2K     \u001b[90m━━━━━━━━━━━━━━━━━━━━━━━━━━━━━━━━━━━━━━━━\u001b[0m \u001b[32m9.5/9.5 MB\u001b[0m \u001b[31m78.6 MB/s\u001b[0m eta \u001b[36m0:00:00\u001b[0m\n",
            "\u001b[?25h  Downloading scikit_learn-1.1.3-cp310-cp310-manylinux_2_17_x86_64.manylinux2014_x86_64.whl (30.5 MB)\n",
            "\u001b[2K     \u001b[90m━━━━━━━━━━━━━━━━━━━━━━━━━━━━━━━━━━━━━━━━\u001b[0m \u001b[32m30.5/30.5 MB\u001b[0m \u001b[31m13.0 MB/s\u001b[0m eta \u001b[36m0:00:00\u001b[0m\n",
            "\u001b[?25h  Downloading scikit_learn-1.1.2-cp310-cp310-manylinux_2_17_x86_64.manylinux2014_x86_64.whl (30.5 MB)\n",
            "\u001b[2K     \u001b[90m━━━━━━━━━━━━━━━━━━━━━━━━━━━━━━━━━━━━━━━━\u001b[0m \u001b[32m30.5/30.5 MB\u001b[0m \u001b[31m24.4 MB/s\u001b[0m eta \u001b[36m0:00:00\u001b[0m\n",
            "\u001b[?25h  Downloading scikit_learn-1.1.1-cp310-cp310-manylinux_2_17_x86_64.manylinux2014_x86_64.whl (30.4 MB)\n",
            "\u001b[2K     \u001b[90m━━━━━━━━━━━━━━━━━━━━━━━━━━━━━━━━━━━━━━━━\u001b[0m \u001b[32m30.4/30.4 MB\u001b[0m \u001b[31m10.8 MB/s\u001b[0m eta \u001b[36m0:00:00\u001b[0m\n",
            "\u001b[?25h  Downloading scikit_learn-1.1.0-cp310-cp310-manylinux_2_17_x86_64.manylinux2014_x86_64.whl (30.7 MB)\n",
            "\u001b[2K     \u001b[90m━━━━━━━━━━━━━━━━━━━━━━━━━━━━━━━━━━━━━━━━\u001b[0m \u001b[32m30.7/30.7 MB\u001b[0m \u001b[31m46.9 MB/s\u001b[0m eta \u001b[36m0:00:00\u001b[0m\n",
            "\u001b[?25hINFO: pip is still looking at multiple versions of scikit-learn to determine which version is compatible with other requirements. This could take a while.\n",
            "  Downloading scikit_learn-1.0.2-cp310-cp310-manylinux_2_17_x86_64.manylinux2014_x86_64.whl (26.5 MB)\n",
            "\u001b[2K     \u001b[90m━━━━━━━━━━━━━━━━━━━━━━━━━━━━━━━━━━━━━━━━\u001b[0m \u001b[32m26.5/26.5 MB\u001b[0m \u001b[31m68.5 MB/s\u001b[0m eta \u001b[36m0:00:00\u001b[0m\n",
            "\u001b[?25hRequirement already satisfied: threadpoolctl>=2.0.0 in /usr/local/lib/python3.10/dist-packages (from scikit-learn!=0.19.0,>=0.14.0->librosa==0.7.0->-r requirements.txt (line 1)) (3.1.0)\n",
            "INFO: pip is looking at multiple versions of scipy to determine which version is compatible with other requirements. This could take a while.\n",
            "Collecting scipy>=1.0.0 (from librosa==0.7.0->-r requirements.txt (line 1))\n",
            "  Obtaining dependency information for scipy>=1.0.0 from https://files.pythonhosted.org/packages/14/f2/10fa23f0a6b9b2439c01579ae4a9b1849d4822e972515c8f92584bfda5e9/scipy-1.11.1-cp310-cp310-manylinux_2_17_x86_64.manylinux2014_x86_64.whl.metadata\n",
            "  Downloading scipy-1.11.1-cp310-cp310-manylinux_2_17_x86_64.manylinux2014_x86_64.whl.metadata (59 kB)\n",
            "\u001b[2K     \u001b[90m━━━━━━━━━━━━━━━━━━━━━━━━━━━━━━━━━━━━━━━━\u001b[0m \u001b[32m59.1/59.1 kB\u001b[0m \u001b[31m7.1 MB/s\u001b[0m eta \u001b[36m0:00:00\u001b[0m\n",
            "\u001b[?25h  Downloading scipy-1.10.0-cp310-cp310-manylinux_2_17_x86_64.manylinux2014_x86_64.whl (34.4 MB)\n",
            "\u001b[2K     \u001b[90m━━━━━━━━━━━━━━━━━━━━━━━━━━━━━━━━━━━━━━━━\u001b[0m \u001b[32m34.4/34.4 MB\u001b[0m \u001b[31m13.7 MB/s\u001b[0m eta \u001b[36m0:00:00\u001b[0m\n",
            "\u001b[?25h  Downloading scipy-1.9.3-cp310-cp310-manylinux_2_17_x86_64.manylinux2014_x86_64.whl (33.7 MB)\n",
            "\u001b[2K     \u001b[90m━━━━━━━━━━━━━━━━━━━━━━━━━━━━━━━━━━━━━━━━\u001b[0m \u001b[32m33.7/33.7 MB\u001b[0m \u001b[31m53.3 MB/s\u001b[0m eta \u001b[36m0:00:00\u001b[0m\n",
            "\u001b[?25h  Downloading scipy-1.9.2-cp310-cp310-manylinux_2_17_x86_64.manylinux2014_x86_64.whl (33.7 MB)\n",
            "\u001b[2K     \u001b[90m━━━━━━━━━━━━━━━━━━━━━━━━━━━━━━━━━━━━━━━━\u001b[0m \u001b[32m33.7/33.7 MB\u001b[0m \u001b[31m14.7 MB/s\u001b[0m eta \u001b[36m0:00:00\u001b[0m\n",
            "\u001b[?25h  Downloading scipy-1.9.1-cp310-cp310-manylinux_2_17_x86_64.manylinux2014_x86_64.whl (43.9 MB)\n",
            "\u001b[2K     \u001b[90m━━━━━━━━━━━━━━━━━━━━━━━━━━━━━━━━━━━━━━━━\u001b[0m \u001b[32m43.9/43.9 MB\u001b[0m \u001b[31m17.0 MB/s\u001b[0m eta \u001b[36m0:00:00\u001b[0m\n",
            "\u001b[?25h  Downloading scipy-1.9.0-cp310-cp310-manylinux_2_17_x86_64.manylinux2014_x86_64.whl (43.9 MB)\n",
            "\u001b[2K     \u001b[90m━━━━━━━━━━━━━━━━━━━━━━━━━━━━━━━━━━━━━━━━\u001b[0m \u001b[32m43.9/43.9 MB\u001b[0m \u001b[31m13.3 MB/s\u001b[0m eta \u001b[36m0:00:00\u001b[0m\n",
            "\u001b[?25h  Downloading scipy-1.8.1-cp310-cp310-manylinux_2_17_x86_64.manylinux2014_x86_64.whl (42.2 MB)\n",
            "\u001b[2K     \u001b[90m━━━━━━━━━━━━━━━━━━━━━━━━━━━━━━━━━━━━━━━━\u001b[0m \u001b[32m42.2/42.2 MB\u001b[0m \u001b[31m15.9 MB/s\u001b[0m eta \u001b[36m0:00:00\u001b[0m\n",
            "\u001b[?25hINFO: pip is still looking at multiple versions of scipy to determine which version is compatible with other requirements. This could take a while.\n",
            "  Downloading scipy-1.8.0-cp310-cp310-manylinux_2_17_x86_64.manylinux2014_x86_64.whl (42.3 MB)\n",
            "\u001b[2K     \u001b[90m━━━━━━━━━━━━━━━━━━━━━━━━━━━━━━━━━━━━━━━━\u001b[0m \u001b[32m42.3/42.3 MB\u001b[0m \u001b[31m14.5 MB/s\u001b[0m eta \u001b[36m0:00:00\u001b[0m\n",
            "\u001b[?25h  Downloading scipy-1.7.3-cp310-cp310-manylinux_2_17_x86_64.manylinux2014_x86_64.whl (39.9 MB)\n",
            "\u001b[2K     \u001b[90m━━━━━━━━━━━━━━━━━━━━━━━━━━━━━━━━━━━━━━━━\u001b[0m \u001b[32m39.9/39.9 MB\u001b[0m \u001b[31m15.5 MB/s\u001b[0m eta \u001b[36m0:00:00\u001b[0m\n",
            "\u001b[?25hRequirement already satisfied: cffi>=1.0 in /usr/local/lib/python3.10/dist-packages (from soundfile>=0.9.0->librosa==0.7.0->-r requirements.txt (line 1)) (1.15.1)\n",
            "Requirement already satisfied: urllib3<1.27,>=1.21.1 in /usr/local/lib/python3.10/dist-packages (from requests->torchvision==0.12.0->-r requirements.txt (line 4)) (1.26.16)\n",
            "Requirement already satisfied: certifi>=2017.4.17 in /usr/local/lib/python3.10/dist-packages (from requests->torchvision==0.12.0->-r requirements.txt (line 4)) (2023.5.7)\n",
            "Requirement already satisfied: charset-normalizer~=2.0.0 in /usr/local/lib/python3.10/dist-packages (from requests->torchvision==0.12.0->-r requirements.txt (line 4)) (2.0.12)\n",
            "Requirement already satisfied: idna<4,>=2.5 in /usr/local/lib/python3.10/dist-packages (from requests->torchvision==0.12.0->-r requirements.txt (line 4)) (3.4)\n",
            "Requirement already satisfied: pycparser in /usr/local/lib/python3.10/dist-packages (from cffi>=1.0->soundfile>=0.9.0->librosa==0.7.0->-r requirements.txt (line 1)) (2.21)\n",
            "Building wheels for collected packages: librosa, numpy, numba, llvmlite\n",
            "  Building wheel for librosa (setup.py) ... \u001b[?25l\u001b[?25hdone\n",
            "  Created wheel for librosa: filename=librosa-0.7.0-py3-none-any.whl size=1598349 sha256=1b542dad2b5e272adfbdf453f0f2a1cc721c918645b334d36627ea6dd5daeebe\n",
            "  Stored in directory: /root/.cache/pip/wheels/6e/4d/e1/f2c74cab7e013fb674ac6102148d0620c0ece2d9d24066a594\n",
            "  \u001b[1;31merror\u001b[0m: \u001b[1msubprocess-exited-with-error\u001b[0m\n",
            "  \n",
            "  \u001b[31m×\u001b[0m \u001b[32mpython setup.py bdist_wheel\u001b[0m did not run successfully.\n",
            "  \u001b[31m│\u001b[0m exit code: \u001b[1;36m1\u001b[0m\n",
            "  \u001b[31m╰─>\u001b[0m See above for output.\n",
            "  \n",
            "  \u001b[1;35mnote\u001b[0m: This error originates from a subprocess, and is likely not a problem with pip.\n",
            "  Building wheel for numpy (setup.py) ... \u001b[?25lerror\n",
            "\u001b[31m  ERROR: Failed building wheel for numpy\u001b[0m\u001b[31m\n",
            "\u001b[0m\u001b[?25h  Running setup.py clean for numpy\n",
            "  \u001b[1;31merror\u001b[0m: \u001b[1msubprocess-exited-with-error\u001b[0m\n",
            "  \n",
            "  \u001b[31m×\u001b[0m \u001b[32mpython setup.py clean\u001b[0m did not run successfully.\n",
            "  \u001b[31m│\u001b[0m exit code: \u001b[1;36m1\u001b[0m\n",
            "  \u001b[31m╰─>\u001b[0m See above for output.\n",
            "  \n",
            "  \u001b[1;35mnote\u001b[0m: This error originates from a subprocess, and is likely not a problem with pip.\n",
            "\u001b[31m  ERROR: Failed cleaning build dir for numpy\u001b[0m\u001b[31m\n",
            "\u001b[0m  \u001b[1;31merror\u001b[0m: \u001b[1msubprocess-exited-with-error\u001b[0m\n",
            "  \n",
            "  \u001b[31m×\u001b[0m \u001b[32mpython setup.py bdist_wheel\u001b[0m did not run successfully.\n",
            "  \u001b[31m│\u001b[0m exit code: \u001b[1;36m1\u001b[0m\n",
            "  \u001b[31m╰─>\u001b[0m See above for output.\n",
            "  \n",
            "  \u001b[1;35mnote\u001b[0m: This error originates from a subprocess, and is likely not a problem with pip.\n",
            "  Building wheel for numba (setup.py) ... \u001b[?25lerror\n",
            "\u001b[31m  ERROR: Failed building wheel for numba\u001b[0m\u001b[31m\n",
            "\u001b[0m\u001b[?25h  Running setup.py clean for numba\n",
            "  \u001b[1;31merror\u001b[0m: \u001b[1msubprocess-exited-with-error\u001b[0m\n",
            "  \n",
            "  \u001b[31m×\u001b[0m \u001b[32mpython setup.py bdist_wheel\u001b[0m did not run successfully.\n",
            "  \u001b[31m│\u001b[0m exit code: \u001b[1;36m1\u001b[0m\n",
            "  \u001b[31m╰─>\u001b[0m See above for output.\n",
            "  \n",
            "  \u001b[1;35mnote\u001b[0m: This error originates from a subprocess, and is likely not a problem with pip.\n",
            "  Building wheel for llvmlite (setup.py) ... \u001b[?25lerror\n",
            "\u001b[31m  ERROR: Failed building wheel for llvmlite\u001b[0m\u001b[31m\n",
            "\u001b[0m\u001b[?25h  Running setup.py clean for llvmlite\n",
            "Successfully built librosa\n",
            "Failed to build numpy numba llvmlite\n",
            "\u001b[31mERROR: Could not build wheels for numpy, numba, llvmlite, which is required to install pyproject.toml-based projects\u001b[0m\u001b[31m\n",
            "\u001b[0m"
          ]
        }
      ]
    },
    {
      "cell_type": "code",
      "metadata": {
        "id": "ey_bN4M6X_95",
        "colab": {
          "base_uri": "https://localhost:8080/"
        },
        "outputId": "7aa1e84c-9899-4342-ac03-9279a69c354d"
      },
      "source": [
        "!wget \"https://www.adrianbulat.com/downloads/python-fan/s3fd-619a316812.pth\" -O \"Wav2Lip/face_detection/detection/sfd/s3fd.pth\""
      ],
      "execution_count": 9,
      "outputs": [
        {
          "output_type": "stream",
          "name": "stdout",
          "text": [
            "--2023-07-19 15:06:17--  https://www.adrianbulat.com/downloads/python-fan/s3fd-619a316812.pth\n",
            "Resolving www.adrianbulat.com (www.adrianbulat.com)... 45.136.29.207\n",
            "Connecting to www.adrianbulat.com (www.adrianbulat.com)|45.136.29.207|:443... connected.\n",
            "HTTP request sent, awaiting response... 200 OK\n",
            "Length: 89843225 (86M) [application/octet-stream]\n",
            "Saving to: ‘Wav2Lip/face_detection/detection/sfd/s3fd.pth’\n",
            "\n",
            "Wav2Lip/face_detect 100%[===================>]  85.68M  12.1MB/s    in 7.1s    \n",
            "\n",
            "2023-07-19 15:06:25 (12.1 MB/s) - ‘Wav2Lip/face_detection/detection/sfd/s3fd.pth’ saved [89843225/89843225]\n",
            "\n"
          ]
        }
      ]
    },
    {
      "cell_type": "markdown",
      "metadata": {
        "id": "qdIQfY2Kswcb"
      },
      "source": [
        "# Now lets try!"
      ]
    },
    {
      "cell_type": "code",
      "metadata": {
        "id": "KoVGMtjRZfeR",
        "colab": {
          "base_uri": "https://localhost:8080/"
        },
        "outputId": "37dcdeee-5e1c-422a-ab33-55491c804fc9"
      },
      "source": [
        "!cp \"/content/gdrive/My Drive/Wav2Lip/kennedy.mp4\" \"/content/gdrive/My Drive/Wav2Lip/output10.wav\" sample_data/\n",
        "!ls sample_data/"
      ],
      "execution_count": 11,
      "outputs": [
        {
          "output_type": "stream",
          "name": "stdout",
          "text": [
            "anscombe.json\t\t      kennedy.mp4\t     output10.wav\n",
            "california_housing_test.csv   mnist_test.csv\t     README.md\n",
            "california_housing_train.csv  mnist_train_small.csv  test2.mp4\n"
          ]
        }
      ]
    },
    {
      "cell_type": "code",
      "metadata": {
        "id": "jR5utmDMcSZY",
        "colab": {
          "base_uri": "https://localhost:8080/"
        },
        "outputId": "2dd2bf5f-7b17-455c-c62a-351e325e92d2"
      },
      "source": [
        "!cd Wav2Lip && python inference.py --checkpoint_path checkpoints/wav2lip_gan.pth --face \"../sample_data/kennedy.mp4\" --audio \"../sample_data/output10.wav\""
      ],
      "execution_count": 13,
      "outputs": [
        {
          "output_type": "stream",
          "name": "stdout",
          "text": [
            "Using cuda for inference.\n",
            "Reading video frames...\n",
            "Number of frames available for inference: 210\n",
            "(80, 5386)\n",
            "Length of mel chunks: 2014\n",
            "  0% 0/16 [00:00<?, ?it/s]\n",
            "  0% 0/14 [00:00<?, ?it/s]\u001b[A\n",
            "  7% 1/14 [00:19<04:15, 19.62s/it]\u001b[A\n",
            " 14% 2/14 [00:20<01:44,  8.69s/it]\u001b[A\n",
            " 21% 3/14 [00:21<00:56,  5.16s/it]\u001b[A\n",
            " 29% 4/14 [00:22<00:34,  3.48s/it]\u001b[A\n",
            " 36% 5/14 [00:23<00:23,  2.56s/it]\u001b[A\n",
            " 43% 6/14 [00:24<00:16,  2.00s/it]\u001b[A\n",
            " 50% 7/14 [00:25<00:11,  1.64s/it]\u001b[A\n",
            " 57% 8/14 [00:26<00:08,  1.41s/it]\u001b[A\n",
            " 64% 9/14 [00:27<00:06,  1.25s/it]\u001b[A\n",
            " 71% 10/14 [00:28<00:04,  1.15s/it]\u001b[A\n",
            " 79% 11/14 [00:28<00:03,  1.08s/it]\u001b[A\n",
            " 86% 12/14 [00:29<00:02,  1.05s/it]\u001b[A\n",
            " 93% 13/14 [00:30<00:01,  1.05s/it]\u001b[A\n",
            "100% 14/14 [00:32<00:00,  2.35s/it]\n",
            "Load checkpoint from: checkpoints/wav2lip_gan.pth\n",
            "Model loaded\n",
            "100% 16/16 [01:06<00:00,  4.14s/it]\n",
            "ffmpeg version 4.2.7-0ubuntu0.1 Copyright (c) 2000-2022 the FFmpeg developers\n",
            "  built with gcc 9 (Ubuntu 9.4.0-1ubuntu1~20.04.1)\n",
            "  configuration: --prefix=/usr --extra-version=0ubuntu0.1 --toolchain=hardened --libdir=/usr/lib/x86_64-linux-gnu --incdir=/usr/include/x86_64-linux-gnu --arch=amd64 --enable-gpl --disable-stripping --enable-avresample --disable-filter=resample --enable-avisynth --enable-gnutls --enable-ladspa --enable-libaom --enable-libass --enable-libbluray --enable-libbs2b --enable-libcaca --enable-libcdio --enable-libcodec2 --enable-libflite --enable-libfontconfig --enable-libfreetype --enable-libfribidi --enable-libgme --enable-libgsm --enable-libjack --enable-libmp3lame --enable-libmysofa --enable-libopenjpeg --enable-libopenmpt --enable-libopus --enable-libpulse --enable-librsvg --enable-librubberband --enable-libshine --enable-libsnappy --enable-libsoxr --enable-libspeex --enable-libssh --enable-libtheora --enable-libtwolame --enable-libvidstab --enable-libvorbis --enable-libvpx --enable-libwavpack --enable-libwebp --enable-libx265 --enable-libxml2 --enable-libxvid --enable-libzmq --enable-libzvbi --enable-lv2 --enable-omx --enable-openal --enable-opencl --enable-opengl --enable-sdl2 --enable-libdc1394 --enable-libdrm --enable-libiec61883 --enable-nvenc --enable-chromaprint --enable-frei0r --enable-libx264 --enable-shared\n",
            "  libavutil      56. 31.100 / 56. 31.100\n",
            "  libavcodec     58. 54.100 / 58. 54.100\n",
            "  libavformat    58. 29.100 / 58. 29.100\n",
            "  libavdevice    58.  8.100 / 58.  8.100\n",
            "  libavfilter     7. 57.100 /  7. 57.100\n",
            "  libavresample   4.  0.  0 /  4.  0.  0\n",
            "  libswscale      5.  5.100 /  5.  5.100\n",
            "  libswresample   3.  5.100 /  3.  5.100\n",
            "  libpostproc    55.  5.100 / 55.  5.100\n",
            "\u001b[0;35m[mp3 @ 0x59b60c07b0c0] \u001b[0m\u001b[0;33mEstimating duration from bitrate, this may be inaccurate\n",
            "\u001b[0mInput #0, mp3, from '../sample_data/output10.wav':\n",
            "  Duration: 00:01:07.32, start: 0.000000, bitrate: 96 kb/s\n",
            "    Stream #0:0: Audio: mp3, 44100 Hz, mono, fltp, 96 kb/s\n",
            "Input #1, avi, from 'temp/result.avi':\n",
            "  Metadata:\n",
            "    encoder         : Lavf59.27.100\n",
            "  Duration: 00:01:07.20, start: 0.000000, bitrate: 1397 kb/s\n",
            "    Stream #1:0: Video: mpeg4 (Simple Profile) (DIVX / 0x58564944), yuv420p, 640x480 [SAR 1:1 DAR 4:3], 1391 kb/s, 29.97 fps, 29.97 tbr, 29.97 tbn, 2997 tbc\n",
            "Stream mapping:\n",
            "  Stream #1:0 -> #0:0 (mpeg4 (native) -> h264 (libx264))\n",
            "  Stream #0:0 -> #0:1 (mp3 (mp3float) -> aac (native))\n",
            "Press [q] to stop, [?] for help\n",
            "\u001b[1;36m[libx264 @ 0x59b60c0d2e80] \u001b[0m\u001b[0;33m-qscale is ignored, -crf is recommended.\n",
            "\u001b[0m\u001b[1;36m[libx264 @ 0x59b60c0d2e80] \u001b[0musing SAR=1/1\n",
            "\u001b[1;36m[libx264 @ 0x59b60c0d2e80] \u001b[0musing cpu capabilities: MMX2 SSE2Fast SSSE3 SSE4.2 AVX FMA3 BMI2 AVX2\n",
            "\u001b[1;36m[libx264 @ 0x59b60c0d2e80] \u001b[0mprofile High, level 3.0\n",
            "\u001b[1;36m[libx264 @ 0x59b60c0d2e80] \u001b[0m264 - core 155 r2917 0a84d98 - H.264/MPEG-4 AVC codec - Copyleft 2003-2018 - http://www.videolan.org/x264.html - options: cabac=1 ref=3 deblock=1:0:0 analyse=0x3:0x113 me=hex subme=7 psy=1 psy_rd=1.00:0.00 mixed_ref=1 me_range=16 chroma_me=1 trellis=1 8x8dct=1 cqm=0 deadzone=21,11 fast_pskip=1 chroma_qp_offset=-2 threads=3 lookahead_threads=1 sliced_threads=0 nr=0 decimate=1 interlaced=0 bluray_compat=0 constrained_intra=0 bframes=3 b_pyramid=2 b_adapt=1 b_bias=0 direct=1 weightb=1 open_gop=0 weightp=2 keyint=250 keyint_min=25 scenecut=40 intra_refresh=0 rc_lookahead=40 rc=crf mbtree=1 crf=23.0 qcomp=0.60 qpmin=0 qpmax=69 qpstep=4 ip_ratio=1.40 aq=1:1.00\n",
            "Output #0, mp4, to 'results/result_voice.mp4':\n",
            "  Metadata:\n",
            "    encoder         : Lavf58.29.100\n",
            "    Stream #0:0: Video: h264 (libx264) (avc1 / 0x31637661), yuv420p(progressive), 640x480 [SAR 1:1 DAR 4:3], q=-1--1, 29.97 fps, 30k tbn, 29.97 tbc\n",
            "    Metadata:\n",
            "      encoder         : Lavc58.54.100 libx264\n",
            "    Side data:\n",
            "      cpb: bitrate max/min/avg: 0/0/0 buffer size: 0 vbv_delay: -1\n",
            "    Stream #0:1: Audio: aac (LC) (mp4a / 0x6134706D), 44100 Hz, mono, fltp, 69 kb/s\n",
            "    Metadata:\n",
            "      encoder         : Lavc58.54.100 aac\n",
            "frame= 2014 fps= 47 q=-1.0 Lsize=    7211kB time=00:01:07.33 bitrate= 877.3kbits/s speed=1.58x    \n",
            "video:6578kB audio:571kB subtitle:0kB other streams:0kB global headers:0kB muxing overhead: 0.873903%\n",
            "\u001b[1;36m[libx264 @ 0x59b60c0d2e80] \u001b[0mframe I:9     Avg QP:21.95  size: 11640\n",
            "\u001b[1;36m[libx264 @ 0x59b60c0d2e80] \u001b[0mframe P:1668  Avg QP:24.27  size:  3633\n",
            "\u001b[1;36m[libx264 @ 0x59b60c0d2e80] \u001b[0mframe B:337   Avg QP:26.96  size:  1692\n",
            "\u001b[1;36m[libx264 @ 0x59b60c0d2e80] \u001b[0mconsecutive B-frames: 72.2% 13.2%  9.4%  5.2%\n",
            "\u001b[1;36m[libx264 @ 0x59b60c0d2e80] \u001b[0mmb I  I16..4: 13.3% 80.7%  6.0%\n",
            "\u001b[1;36m[libx264 @ 0x59b60c0d2e80] \u001b[0mmb P  I16..4:  1.4%  9.0%  0.1%  P16..4: 55.7%  8.3%  2.5%  0.0%  0.0%    skip:23.0%\n",
            "\u001b[1;36m[libx264 @ 0x59b60c0d2e80] \u001b[0mmb B  I16..4:  0.6%  3.7%  0.0%  B16..8: 42.7%  2.8%  0.3%  direct: 0.8%  skip:49.1%  L0:63.2% L1:33.9% BI: 2.8%\n",
            "\u001b[1;36m[libx264 @ 0x59b60c0d2e80] \u001b[0m8x8 transform intra:85.4% inter:88.2%\n",
            "\u001b[1;36m[libx264 @ 0x59b60c0d2e80] \u001b[0mcoded y,uvDC,uvAC intra: 69.8% 17.9% 0.0% inter: 18.4% 2.3% 0.0%\n",
            "\u001b[1;36m[libx264 @ 0x59b60c0d2e80] \u001b[0mi16 v,h,dc,p: 17% 31% 14% 38%\n",
            "\u001b[1;36m[libx264 @ 0x59b60c0d2e80] \u001b[0mi8 v,h,dc,ddl,ddr,vr,hd,vl,hu: 21% 23% 39%  3%  2%  3%  3%  3%  3%\n",
            "\u001b[1;36m[libx264 @ 0x59b60c0d2e80] \u001b[0mi4 v,h,dc,ddl,ddr,vr,hd,vl,hu: 31% 23% 17%  4%  6%  5%  7%  4%  3%\n",
            "\u001b[1;36m[libx264 @ 0x59b60c0d2e80] \u001b[0mi8c dc,h,v,p: 69% 16% 14%  0%\n",
            "\u001b[1;36m[libx264 @ 0x59b60c0d2e80] \u001b[0mWeighted P-Frames: Y:1.7% UV:0.1%\n",
            "\u001b[1;36m[libx264 @ 0x59b60c0d2e80] \u001b[0mref P L0: 74.3% 11.5% 10.5%  3.5%  0.2%\n",
            "\u001b[1;36m[libx264 @ 0x59b60c0d2e80] \u001b[0mref B L0: 83.3% 14.6%  2.1%\n",
            "\u001b[1;36m[libx264 @ 0x59b60c0d2e80] \u001b[0mref B L1: 99.3%  0.7%\n",
            "\u001b[1;36m[libx264 @ 0x59b60c0d2e80] \u001b[0mkb/s:801.79\n",
            "\u001b[1;36m[aac @ 0x59b60c0d0f80] \u001b[0mQavg: 158.364\n"
          ]
        }
      ]
    },
    {
      "cell_type": "code",
      "source": [
        "from google.colab import drive\n",
        "drive.mount('/content/drive')"
      ],
      "metadata": {
        "id": "tlV7pBv_XrqI"
      },
      "execution_count": null,
      "outputs": []
    },
    {
      "cell_type": "code",
      "metadata": {
        "id": "uNOAZvkszEOw"
      },
      "source": [
        "# use the \"files\" button on the left to download the result in the Wav2Lip/results/ folder."
      ],
      "execution_count": null,
      "outputs": []
    },
    {
      "cell_type": "markdown",
      "metadata": {
        "id": "d7zgfrQqbKom"
      },
      "source": [
        "## **Variations to try**\n"
      ]
    },
    {
      "cell_type": "markdown",
      "metadata": {
        "id": "0f9A9VDVbZAG"
      },
      "source": [
        "1.   Use more padding to include the chin region"
      ]
    },
    {
      "cell_type": "code",
      "metadata": {
        "id": "45XW4SZAzIz5",
        "colab": {
          "base_uri": "https://localhost:8080/"
        },
        "outputId": "a8da22d7-584e-47e0-c234-65d46612d47c"
      },
      "source": [
        "!cd Wav2Lip && python inference.py --checkpoint_path checkpoints/wav2lip_gan.pth --face \"../sample_data/test2.mp4\" --audio \"../sample_data/output10.wav\" --pads 0 20 0 0"
      ],
      "execution_count": null,
      "outputs": [
        {
          "output_type": "stream",
          "name": "stdout",
          "text": [
            "Using cuda for inference.\n",
            "Reading video frames...\n",
            "Number of frames available for inference: 1215\n",
            "(80, 5386)\n",
            "Length of mel chunks: 2016\n",
            "  0% 0/16 [00:00<?, ?it/s]\n",
            "  0% 0/76 [00:00<?, ?it/s]\u001b[A\n",
            "  1% 1/76 [00:18<23:22, 18.69s/it]\u001b[A\n",
            "  3% 2/76 [00:19<10:25,  8.45s/it]\u001b[A\n",
            "  4% 3/76 [00:21<06:18,  5.18s/it]\u001b[A\n",
            "  5% 4/76 [00:22<04:21,  3.64s/it]\u001b[A\n",
            "  7% 5/76 [00:23<03:16,  2.77s/it]\u001b[A\n",
            "  8% 6/76 [00:25<02:39,  2.28s/it]\u001b[A\n",
            "  9% 7/76 [00:26<02:18,  2.00s/it]\u001b[A\n",
            " 11% 8/76 [00:27<02:03,  1.82s/it]\u001b[A\n",
            " 12% 9/76 [00:29<01:52,  1.69s/it]\u001b[A\n",
            " 13% 10/76 [00:30<01:42,  1.55s/it]\u001b[A\n",
            " 14% 11/76 [00:31<01:34,  1.46s/it]\u001b[A\n",
            " 16% 12/76 [00:33<01:29,  1.40s/it]\u001b[A\n",
            " 17% 13/76 [00:34<01:25,  1.35s/it]\u001b[A\n",
            " 18% 14/76 [00:35<01:22,  1.33s/it]\u001b[A\n",
            " 20% 15/76 [00:36<01:20,  1.32s/it]\u001b[A\n",
            " 21% 16/76 [00:38<01:18,  1.31s/it]\u001b[A\n",
            " 22% 17/76 [00:39<01:17,  1.31s/it]\u001b[A\n",
            " 24% 18/76 [00:40<01:17,  1.34s/it]\u001b[A\n",
            " 25% 19/76 [00:42<01:17,  1.36s/it]\u001b[A\n",
            " 26% 20/76 [00:43<01:14,  1.33s/it]\u001b[A\n",
            " 28% 21/76 [00:44<01:11,  1.30s/it]\u001b[A\n",
            " 29% 22/76 [00:46<01:09,  1.29s/it]\u001b[A\n",
            " 30% 23/76 [00:47<01:08,  1.29s/it]\u001b[A\n",
            " 32% 24/76 [00:48<01:06,  1.28s/it]\u001b[A\n",
            " 33% 25/76 [00:49<01:04,  1.27s/it]\u001b[A\n",
            " 34% 26/76 [00:51<01:03,  1.27s/it]\u001b[A\n",
            " 36% 27/76 [00:52<01:02,  1.28s/it]\u001b[A\n",
            " 37% 28/76 [00:53<01:04,  1.33s/it]\u001b[A\n",
            " 38% 29/76 [00:55<01:04,  1.37s/it]\u001b[A\n",
            " 39% 30/76 [00:56<01:03,  1.38s/it]\u001b[A\n",
            " 41% 31/76 [00:58<01:00,  1.35s/it]\u001b[A\n",
            " 42% 32/76 [00:59<00:58,  1.32s/it]\u001b[A\n",
            " 43% 33/76 [01:00<00:56,  1.31s/it]\u001b[A\n",
            " 45% 34/76 [01:01<00:54,  1.30s/it]\u001b[A\n",
            " 46% 35/76 [01:03<00:53,  1.30s/it]\u001b[A\n",
            " 47% 36/76 [01:04<00:51,  1.30s/it]\u001b[A\n",
            " 49% 37/76 [01:05<00:50,  1.30s/it]\u001b[A\n",
            " 50% 38/76 [01:07<00:49,  1.31s/it]\u001b[A\n",
            " 51% 39/76 [01:08<00:49,  1.35s/it]\u001b[A\n",
            " 53% 40/76 [01:09<00:49,  1.37s/it]\u001b[A\n",
            " 54% 41/76 [01:11<00:46,  1.34s/it]\u001b[A\n",
            " 55% 42/76 [01:12<00:44,  1.32s/it]\u001b[A\n",
            " 57% 43/76 [01:13<00:43,  1.31s/it]\u001b[A\n",
            " 58% 44/76 [01:15<00:41,  1.30s/it]\u001b[A\n",
            " 59% 45/76 [01:16<00:39,  1.29s/it]\u001b[A\n",
            " 61% 46/76 [01:17<00:38,  1.29s/it]\u001b[A\n",
            " 62% 47/76 [01:18<00:37,  1.29s/it]\u001b[A\n",
            " 63% 48/76 [01:20<00:36,  1.30s/it]\u001b[A\n",
            " 64% 49/76 [01:21<00:36,  1.35s/it]\u001b[A\n",
            " 66% 50/76 [01:23<00:36,  1.39s/it]\u001b[A\n",
            " 67% 51/76 [01:24<00:34,  1.37s/it]\u001b[A\n",
            " 68% 52/76 [01:25<00:32,  1.35s/it]\u001b[A\n",
            " 70% 53/76 [01:27<00:30,  1.34s/it]\u001b[A\n",
            " 71% 54/76 [01:28<00:29,  1.33s/it]\u001b[A\n",
            " 72% 55/76 [01:29<00:27,  1.32s/it]\u001b[A\n",
            " 74% 56/76 [01:31<00:26,  1.31s/it]\u001b[A\n",
            " 75% 57/76 [01:32<00:24,  1.31s/it]\u001b[A\n",
            " 76% 58/76 [01:33<00:23,  1.32s/it]\u001b[A\n",
            " 78% 59/76 [01:35<00:23,  1.36s/it]\u001b[A\n",
            " 79% 60/76 [01:36<00:22,  1.40s/it]\u001b[A\n",
            " 80% 61/76 [01:38<00:21,  1.41s/it]\u001b[A\n",
            " 82% 62/76 [01:39<00:19,  1.38s/it]\u001b[A\n",
            " 83% 63/76 [01:40<00:17,  1.37s/it]\u001b[A\n",
            " 84% 64/76 [01:42<00:16,  1.36s/it]\u001b[A\n",
            " 86% 65/76 [01:43<00:14,  1.35s/it]\u001b[A\n",
            " 87% 66/76 [01:44<00:13,  1.34s/it]\u001b[A\n",
            " 88% 67/76 [01:45<00:11,  1.33s/it]\u001b[A\n",
            " 89% 68/76 [01:47<00:10,  1.33s/it]\u001b[A\n",
            " 91% 69/76 [01:48<00:09,  1.37s/it]\u001b[A\n",
            " 92% 70/76 [01:50<00:08,  1.41s/it]\u001b[A\n",
            " 93% 71/76 [01:51<00:07,  1.41s/it]\u001b[A\n",
            " 95% 72/76 [01:52<00:05,  1.37s/it]\u001b[A\n",
            " 96% 73/76 [01:54<00:04,  1.35s/it]\u001b[A\n",
            " 97% 74/76 [01:55<00:02,  1.34s/it]\u001b[A\n",
            " 99% 75/76 [01:56<00:01,  1.34s/it]\u001b[A\n",
            "100% 76/76 [02:13<00:00,  1.76s/it]\n",
            "Load checkpoint from: checkpoints/wav2lip_gan.pth\n",
            "Model loaded\n",
            "100% 16/16 [02:43<00:00, 10.23s/it]\n",
            "ffmpeg version 4.2.7-0ubuntu0.1 Copyright (c) 2000-2022 the FFmpeg developers\n",
            "  built with gcc 9 (Ubuntu 9.4.0-1ubuntu1~20.04.1)\n",
            "  configuration: --prefix=/usr --extra-version=0ubuntu0.1 --toolchain=hardened --libdir=/usr/lib/x86_64-linux-gnu --incdir=/usr/include/x86_64-linux-gnu --arch=amd64 --enable-gpl --disable-stripping --enable-avresample --disable-filter=resample --enable-avisynth --enable-gnutls --enable-ladspa --enable-libaom --enable-libass --enable-libbluray --enable-libbs2b --enable-libcaca --enable-libcdio --enable-libcodec2 --enable-libflite --enable-libfontconfig --enable-libfreetype --enable-libfribidi --enable-libgme --enable-libgsm --enable-libjack --enable-libmp3lame --enable-libmysofa --enable-libopenjpeg --enable-libopenmpt --enable-libopus --enable-libpulse --enable-librsvg --enable-librubberband --enable-libshine --enable-libsnappy --enable-libsoxr --enable-libspeex --enable-libssh --enable-libtheora --enable-libtwolame --enable-libvidstab --enable-libvorbis --enable-libvpx --enable-libwavpack --enable-libwebp --enable-libx265 --enable-libxml2 --enable-libxvid --enable-libzmq --enable-libzvbi --enable-lv2 --enable-omx --enable-openal --enable-opencl --enable-opengl --enable-sdl2 --enable-libdc1394 --enable-libdrm --enable-libiec61883 --enable-nvenc --enable-chromaprint --enable-frei0r --enable-libx264 --enable-shared\n",
            "  libavutil      56. 31.100 / 56. 31.100\n",
            "  libavcodec     58. 54.100 / 58. 54.100\n",
            "  libavformat    58. 29.100 / 58. 29.100\n",
            "  libavdevice    58.  8.100 / 58.  8.100\n",
            "  libavfilter     7. 57.100 /  7. 57.100\n",
            "  libavresample   4.  0.  0 /  4.  0.  0\n",
            "  libswscale      5.  5.100 /  5.  5.100\n",
            "  libswresample   3.  5.100 /  3.  5.100\n",
            "  libpostproc    55.  5.100 / 55.  5.100\n",
            "\u001b[0;35m[mp3 @ 0x5b25f4a830c0] \u001b[0m\u001b[0;33mEstimating duration from bitrate, this may be inaccurate\n",
            "\u001b[0mInput #0, mp3, from '../sample_data/output10.wav':\n",
            "  Duration: 00:01:07.32, start: 0.000000, bitrate: 96 kb/s\n",
            "    Stream #0:0: Audio: mp3, 44100 Hz, mono, fltp, 96 kb/s\n",
            "Input #1, avi, from 'temp/result.avi':\n",
            "  Metadata:\n",
            "    encoder         : Lavf59.27.100\n",
            "  Duration: 00:01:07.20, start: 0.000000, bitrate: 1470 kb/s\n",
            "    Stream #1:0: Video: mpeg4 (Simple Profile) (DIVX / 0x58564944), yuv420p, 852x480 [SAR 1:1 DAR 71:40], 1464 kb/s, 30 fps, 30 tbr, 30 tbn, 30 tbc\n",
            "Stream mapping:\n",
            "  Stream #1:0 -> #0:0 (mpeg4 (native) -> h264 (libx264))\n",
            "  Stream #0:0 -> #0:1 (mp3 (mp3float) -> aac (native))\n",
            "Press [q] to stop, [?] for help\n",
            "\u001b[1;36m[libx264 @ 0x5b25f4ace8c0] \u001b[0m\u001b[0;33m-qscale is ignored, -crf is recommended.\n",
            "\u001b[0m\u001b[1;36m[libx264 @ 0x5b25f4ace8c0] \u001b[0musing SAR=1/1\n",
            "\u001b[1;36m[libx264 @ 0x5b25f4ace8c0] \u001b[0musing cpu capabilities: MMX2 SSE2Fast SSSE3 SSE4.2 AVX FMA3 BMI2 AVX2\n",
            "\u001b[1;36m[libx264 @ 0x5b25f4ace8c0] \u001b[0mprofile High, level 3.1\n",
            "\u001b[1;36m[libx264 @ 0x5b25f4ace8c0] \u001b[0m264 - core 155 r2917 0a84d98 - H.264/MPEG-4 AVC codec - Copyleft 2003-2018 - http://www.videolan.org/x264.html - options: cabac=1 ref=3 deblock=1:0:0 analyse=0x3:0x113 me=hex subme=7 psy=1 psy_rd=1.00:0.00 mixed_ref=1 me_range=16 chroma_me=1 trellis=1 8x8dct=1 cqm=0 deadzone=21,11 fast_pskip=1 chroma_qp_offset=-2 threads=3 lookahead_threads=1 sliced_threads=0 nr=0 decimate=1 interlaced=0 bluray_compat=0 constrained_intra=0 bframes=3 b_pyramid=2 b_adapt=1 b_bias=0 direct=1 weightb=1 open_gop=0 weightp=2 keyint=250 keyint_min=25 scenecut=40 intra_refresh=0 rc_lookahead=40 rc=crf mbtree=1 crf=23.0 qcomp=0.60 qpmin=0 qpmax=69 qpstep=4 ip_ratio=1.40 aq=1:1.00\n",
            "Output #0, mp4, to 'results/result_voice.mp4':\n",
            "  Metadata:\n",
            "    encoder         : Lavf58.29.100\n",
            "    Stream #0:0: Video: h264 (libx264) (avc1 / 0x31637661), yuv420p(progressive), 852x480 [SAR 1:1 DAR 71:40], q=-1--1, 30 fps, 15360 tbn, 30 tbc\n",
            "    Metadata:\n",
            "      encoder         : Lavc58.54.100 libx264\n",
            "    Side data:\n",
            "      cpb: bitrate max/min/avg: 0/0/0 buffer size: 0 vbv_delay: -1\n",
            "    Stream #0:1: Audio: aac (LC) (mp4a / 0x6134706D), 44100 Hz, mono, fltp, 69 kb/s\n",
            "    Metadata:\n",
            "      encoder         : Lavc58.54.100 aac\n",
            "frame= 2016 fps= 64 q=-1.0 Lsize=    5024kB time=00:01:07.33 bitrate= 611.2kbits/s speed=2.13x    \n",
            "video:4386kB audio:571kB subtitle:0kB other streams:0kB global headers:0kB muxing overhead: 1.353634%\n",
            "\u001b[1;36m[libx264 @ 0x5b25f4ace8c0] \u001b[0mframe I:9     Avg QP:16.42  size: 15845\n",
            "\u001b[1;36m[libx264 @ 0x5b25f4ace8c0] \u001b[0mframe P:1214  Avg QP:21.83  size:  2864\n",
            "\u001b[1;36m[libx264 @ 0x5b25f4ace8c0] \u001b[0mframe B:793   Avg QP:24.84  size:  1099\n",
            "\u001b[1;36m[libx264 @ 0x5b25f4ace8c0] \u001b[0mconsecutive B-frames: 42.2% 11.3% 14.1% 32.3%\n",
            "\u001b[1;36m[libx264 @ 0x5b25f4ace8c0] \u001b[0mmb I  I16..4: 33.8% 56.3%  9.9%\n",
            "\u001b[1;36m[libx264 @ 0x5b25f4ace8c0] \u001b[0mmb P  I16..4:  1.0%  4.9%  0.2%  P16..4: 17.9%  6.6%  3.2%  0.0%  0.0%    skip:66.0%\n",
            "\u001b[1;36m[libx264 @ 0x5b25f4ace8c0] \u001b[0mmb B  I16..4:  0.2%  1.1%  0.0%  B16..8: 24.1%  2.4%  0.3%  direct: 0.6%  skip:71.3%  L0:50.5% L1:44.4% BI: 5.0%\n",
            "\u001b[1;36m[libx264 @ 0x5b25f4ace8c0] \u001b[0m8x8 transform intra:77.9% inter:76.8%\n",
            "\u001b[1;36m[libx264 @ 0x5b25f4ace8c0] \u001b[0mcoded y,uvDC,uvAC intra: 32.1% 30.6% 6.7% inter: 5.9% 4.0% 0.1%\n",
            "\u001b[1;36m[libx264 @ 0x5b25f4ace8c0] \u001b[0mi16 v,h,dc,p: 51% 25% 17%  7%\n",
            "\u001b[1;36m[libx264 @ 0x5b25f4ace8c0] \u001b[0mi8 v,h,dc,ddl,ddr,vr,hd,vl,hu: 29% 16% 44%  2%  2%  2%  2%  2%  2%\n",
            "\u001b[1;36m[libx264 @ 0x5b25f4ace8c0] \u001b[0mi4 v,h,dc,ddl,ddr,vr,hd,vl,hu: 23% 31% 14%  4%  7%  7%  7%  5%  3%\n",
            "\u001b[1;36m[libx264 @ 0x5b25f4ace8c0] \u001b[0mi8c dc,h,v,p: 56% 20% 22%  2%\n",
            "\u001b[1;36m[libx264 @ 0x5b25f4ace8c0] \u001b[0mWeighted P-Frames: Y:0.0% UV:0.0%\n",
            "\u001b[1;36m[libx264 @ 0x5b25f4ace8c0] \u001b[0mref P L0: 72.3% 13.0% 10.7%  4.1%\n",
            "\u001b[1;36m[libx264 @ 0x5b25f4ace8c0] \u001b[0mref B L0: 86.9% 10.0%  3.1%\n",
            "\u001b[1;36m[libx264 @ 0x5b25f4ace8c0] \u001b[0mref B L1: 97.3%  2.7%\n",
            "\u001b[1;36m[libx264 @ 0x5b25f4ace8c0] \u001b[0mkb/s:534.62\n",
            "\u001b[1;36m[aac @ 0x5b25f4acc6c0] \u001b[0mQavg: 158.364\n"
          ]
        }
      ]
    },
    {
      "cell_type": "markdown",
      "metadata": {
        "id": "uo-WnsxfbwTG"
      },
      "source": [
        "2.   Use resize_factor to reduce the video resolution, as there is a change you might get better results for lower resolution videos. Why? Because the model was trained on low resolution faces."
      ]
    },
    {
      "cell_type": "code",
      "metadata": {
        "id": "xw0xFtZ2bsx8",
        "colab": {
          "base_uri": "https://localhost:8080/"
        },
        "outputId": "be77c8eb-1616-4403-dcd3-f4df200c158c"
      },
      "source": [
        "!cd Wav2Lip && python inference.py --checkpoint_path checkpoints/wav2lip_gan.pth --face \"../sample_data/test2.mp4\" --audio \"../sample_data/output10.wav\" --resize_factor 2"
      ],
      "execution_count": null,
      "outputs": [
        {
          "output_type": "stream",
          "name": "stdout",
          "text": [
            "Using cuda for inference.\n",
            "Reading video frames...\n",
            "Number of frames available for inference: 1215\n",
            "(80, 5386)\n",
            "Length of mel chunks: 2016\n",
            "  0% 0/16 [00:00<?, ?it/s]\n",
            "  0% 0/76 [00:00<?, ?it/s]\u001b[A\n",
            "  1% 1/76 [00:06<08:36,  6.88s/it]\u001b[A\n",
            "  3% 2/76 [00:07<03:50,  3.12s/it]\u001b[A\n",
            "  4% 3/76 [00:07<02:21,  1.94s/it]\u001b[A\n",
            "  5% 4/76 [00:08<01:38,  1.37s/it]\u001b[A\n",
            "  7% 5/76 [00:08<01:14,  1.05s/it]\u001b[A\n",
            "  8% 6/76 [00:09<00:59,  1.18it/s]\u001b[A\n",
            "  9% 7/76 [00:09<00:49,  1.39it/s]\u001b[A\n",
            " 11% 8/76 [00:10<00:42,  1.59it/s]\u001b[A\n",
            " 12% 9/76 [00:10<00:36,  1.81it/s]\u001b[A\n",
            " 13% 10/76 [00:10<00:32,  2.01it/s]\u001b[A\n",
            " 14% 11/76 [00:11<00:29,  2.17it/s]\u001b[A\n",
            " 16% 12/76 [00:11<00:27,  2.30it/s]\u001b[A\n",
            " 17% 13/76 [00:12<00:26,  2.38it/s]\u001b[A\n",
            " 18% 14/76 [00:12<00:25,  2.40it/s]\u001b[A\n",
            " 20% 15/76 [00:12<00:25,  2.42it/s]\u001b[A\n",
            " 21% 16/76 [00:13<00:24,  2.44it/s]\u001b[A\n",
            " 22% 17/76 [00:13<00:23,  2.49it/s]\u001b[A\n",
            " 24% 18/76 [00:14<00:23,  2.52it/s]\u001b[A\n",
            " 25% 19/76 [00:14<00:22,  2.57it/s]\u001b[A\n",
            " 26% 20/76 [00:14<00:21,  2.61it/s]\u001b[A\n",
            " 28% 21/76 [00:15<00:21,  2.57it/s]\u001b[A\n",
            " 29% 22/76 [00:15<00:20,  2.59it/s]\u001b[A\n",
            " 30% 23/76 [00:16<00:20,  2.58it/s]\u001b[A\n",
            " 32% 24/76 [00:16<00:20,  2.54it/s]\u001b[A\n",
            " 33% 25/76 [00:16<00:19,  2.56it/s]\u001b[A\n",
            " 34% 26/76 [00:17<00:19,  2.57it/s]\u001b[A\n",
            " 36% 27/76 [00:17<00:19,  2.57it/s]\u001b[A\n",
            " 37% 28/76 [00:17<00:18,  2.60it/s]\u001b[A\n",
            " 38% 29/76 [00:18<00:17,  2.62it/s]\u001b[A\n",
            " 39% 30/76 [00:18<00:17,  2.63it/s]\u001b[A\n",
            " 41% 31/76 [00:19<00:17,  2.60it/s]\u001b[A\n",
            " 42% 32/76 [00:19<00:16,  2.62it/s]\u001b[A\n",
            " 43% 33/76 [00:19<00:16,  2.64it/s]\u001b[A\n",
            " 45% 34/76 [00:20<00:16,  2.52it/s]\u001b[A\n",
            " 46% 35/76 [00:20<00:16,  2.44it/s]\u001b[A\n",
            " 47% 36/76 [00:21<00:16,  2.36it/s]\u001b[A\n",
            " 49% 37/76 [00:21<00:16,  2.30it/s]\u001b[A\n",
            " 50% 38/76 [00:22<00:17,  2.21it/s]\u001b[A\n",
            " 51% 39/76 [00:22<00:17,  2.15it/s]\u001b[A\n",
            " 53% 40/76 [00:23<00:16,  2.15it/s]\u001b[A\n",
            " 54% 41/76 [00:23<00:16,  2.15it/s]\u001b[A\n",
            " 55% 42/76 [00:24<00:15,  2.18it/s]\u001b[A\n",
            " 57% 43/76 [00:24<00:14,  2.30it/s]\u001b[A\n",
            " 58% 44/76 [00:24<00:13,  2.40it/s]\u001b[A\n",
            " 59% 45/76 [00:25<00:12,  2.48it/s]\u001b[A\n",
            " 61% 46/76 [00:25<00:11,  2.54it/s]\u001b[A\n",
            " 62% 47/76 [00:25<00:11,  2.58it/s]\u001b[A\n",
            " 63% 48/76 [00:26<00:10,  2.57it/s]\u001b[A\n",
            " 64% 49/76 [00:26<00:10,  2.59it/s]\u001b[A\n",
            " 66% 50/76 [00:27<00:10,  2.59it/s]\u001b[A\n",
            " 67% 51/76 [00:27<00:09,  2.56it/s]\u001b[A\n",
            " 68% 52/76 [00:27<00:09,  2.52it/s]\u001b[A\n",
            " 70% 53/76 [00:28<00:09,  2.55it/s]\u001b[A\n",
            " 71% 54/76 [00:28<00:08,  2.57it/s]\u001b[A\n",
            " 72% 55/76 [00:28<00:08,  2.59it/s]\u001b[A\n",
            " 74% 56/76 [00:29<00:07,  2.60it/s]\u001b[A\n",
            " 75% 57/76 [00:29<00:07,  2.61it/s]\u001b[A\n",
            " 76% 58/76 [00:30<00:06,  2.62it/s]\u001b[A\n",
            " 78% 59/76 [00:30<00:06,  2.63it/s]\u001b[A\n",
            " 79% 60/76 [00:30<00:06,  2.63it/s]\u001b[A\n",
            " 80% 61/76 [00:31<00:05,  2.60it/s]\u001b[A\n",
            " 82% 62/76 [00:31<00:05,  2.57it/s]\u001b[A\n",
            " 83% 63/76 [00:32<00:05,  2.50it/s]\u001b[A\n",
            " 84% 64/76 [00:32<00:04,  2.49it/s]\u001b[A\n",
            " 86% 65/76 [00:32<00:04,  2.46it/s]\u001b[A\n",
            " 87% 66/76 [00:33<00:04,  2.44it/s]\u001b[A\n",
            " 88% 67/76 [00:33<00:03,  2.46it/s]\u001b[A\n",
            " 89% 68/76 [00:34<00:03,  2.30it/s]\u001b[A\n",
            " 91% 69/76 [00:34<00:03,  2.24it/s]\u001b[A\n",
            " 92% 70/76 [00:35<00:02,  2.17it/s]\u001b[A\n",
            " 93% 71/76 [00:35<00:02,  2.18it/s]\u001b[A\n",
            " 95% 72/76 [00:36<00:01,  2.19it/s]\u001b[A\n",
            " 96% 73/76 [00:36<00:01,  2.18it/s]\u001b[A\n",
            " 97% 74/76 [00:37<00:00,  2.10it/s]\u001b[A\n",
            " 99% 75/76 [00:37<00:00,  2.05it/s]\u001b[A\n",
            "100% 76/76 [00:42<00:00,  1.78it/s]\n",
            "Load checkpoint from: checkpoints/wav2lip_gan.pth\n",
            "Model loaded\n",
            "100% 16/16 [01:06<00:00,  4.13s/it]\n",
            "ffmpeg version 4.2.7-0ubuntu0.1 Copyright (c) 2000-2022 the FFmpeg developers\n",
            "  built with gcc 9 (Ubuntu 9.4.0-1ubuntu1~20.04.1)\n",
            "  configuration: --prefix=/usr --extra-version=0ubuntu0.1 --toolchain=hardened --libdir=/usr/lib/x86_64-linux-gnu --incdir=/usr/include/x86_64-linux-gnu --arch=amd64 --enable-gpl --disable-stripping --enable-avresample --disable-filter=resample --enable-avisynth --enable-gnutls --enable-ladspa --enable-libaom --enable-libass --enable-libbluray --enable-libbs2b --enable-libcaca --enable-libcdio --enable-libcodec2 --enable-libflite --enable-libfontconfig --enable-libfreetype --enable-libfribidi --enable-libgme --enable-libgsm --enable-libjack --enable-libmp3lame --enable-libmysofa --enable-libopenjpeg --enable-libopenmpt --enable-libopus --enable-libpulse --enable-librsvg --enable-librubberband --enable-libshine --enable-libsnappy --enable-libsoxr --enable-libspeex --enable-libssh --enable-libtheora --enable-libtwolame --enable-libvidstab --enable-libvorbis --enable-libvpx --enable-libwavpack --enable-libwebp --enable-libx265 --enable-libxml2 --enable-libxvid --enable-libzmq --enable-libzvbi --enable-lv2 --enable-omx --enable-openal --enable-opencl --enable-opengl --enable-sdl2 --enable-libdc1394 --enable-libdrm --enable-libiec61883 --enable-nvenc --enable-chromaprint --enable-frei0r --enable-libx264 --enable-shared\n",
            "  libavutil      56. 31.100 / 56. 31.100\n",
            "  libavcodec     58. 54.100 / 58. 54.100\n",
            "  libavformat    58. 29.100 / 58. 29.100\n",
            "  libavdevice    58.  8.100 / 58.  8.100\n",
            "  libavfilter     7. 57.100 /  7. 57.100\n",
            "  libavresample   4.  0.  0 /  4.  0.  0\n",
            "  libswscale      5.  5.100 /  5.  5.100\n",
            "  libswresample   3.  5.100 /  3.  5.100\n",
            "  libpostproc    55.  5.100 / 55.  5.100\n",
            "\u001b[0;35m[mp3 @ 0x5af1e481c0c0] \u001b[0m\u001b[0;33mEstimating duration from bitrate, this may be inaccurate\n",
            "\u001b[0mInput #0, mp3, from '../sample_data/output10.wav':\n",
            "  Duration: 00:01:07.32, start: 0.000000, bitrate: 96 kb/s\n",
            "    Stream #0:0: Audio: mp3, 44100 Hz, mono, fltp, 96 kb/s\n",
            "Input #1, avi, from 'temp/result.avi':\n",
            "  Metadata:\n",
            "    encoder         : Lavf59.27.100\n",
            "  Duration: 00:01:07.20, start: 0.000000, bitrate: 659 kb/s\n",
            "    Stream #1:0: Video: mpeg4 (Simple Profile) (DIVX / 0x58564944), yuv420p, 426x240 [SAR 1:1 DAR 71:40], 653 kb/s, 30 fps, 30 tbr, 30 tbn, 30 tbc\n",
            "Stream mapping:\n",
            "  Stream #1:0 -> #0:0 (mpeg4 (native) -> h264 (libx264))\n",
            "  Stream #0:0 -> #0:1 (mp3 (mp3float) -> aac (native))\n",
            "Press [q] to stop, [?] for help\n",
            "\u001b[1;36m[libx264 @ 0x5af1e4878ac0] \u001b[0m\u001b[0;33m-qscale is ignored, -crf is recommended.\n",
            "\u001b[0m\u001b[1;36m[libx264 @ 0x5af1e4878ac0] \u001b[0musing SAR=1/1\n",
            "\u001b[1;36m[libx264 @ 0x5af1e4878ac0] \u001b[0musing cpu capabilities: MMX2 SSE2Fast SSSE3 SSE4.2 AVX FMA3 BMI2 AVX2\n",
            "\u001b[1;36m[libx264 @ 0x5af1e4878ac0] \u001b[0mprofile High, level 2.1\n",
            "\u001b[1;36m[libx264 @ 0x5af1e4878ac0] \u001b[0m264 - core 155 r2917 0a84d98 - H.264/MPEG-4 AVC codec - Copyleft 2003-2018 - http://www.videolan.org/x264.html - options: cabac=1 ref=3 deblock=1:0:0 analyse=0x3:0x113 me=hex subme=7 psy=1 psy_rd=1.00:0.00 mixed_ref=1 me_range=16 chroma_me=1 trellis=1 8x8dct=1 cqm=0 deadzone=21,11 fast_pskip=1 chroma_qp_offset=-2 threads=3 lookahead_threads=1 sliced_threads=0 nr=0 decimate=1 interlaced=0 bluray_compat=0 constrained_intra=0 bframes=3 b_pyramid=2 b_adapt=1 b_bias=0 direct=1 weightb=1 open_gop=0 weightp=2 keyint=250 keyint_min=25 scenecut=40 intra_refresh=0 rc_lookahead=40 rc=crf mbtree=1 crf=23.0 qcomp=0.60 qpmin=0 qpmax=69 qpstep=4 ip_ratio=1.40 aq=1:1.00\n",
            "Output #0, mp4, to 'results/result_voice.mp4':\n",
            "  Metadata:\n",
            "    encoder         : Lavf58.29.100\n",
            "    Stream #0:0: Video: h264 (libx264) (avc1 / 0x31637661), yuv420p(progressive), 426x240 [SAR 1:1 DAR 71:40], q=-1--1, 30 fps, 15360 tbn, 30 tbc\n",
            "    Metadata:\n",
            "      encoder         : Lavc58.54.100 libx264\n",
            "    Side data:\n",
            "      cpb: bitrate max/min/avg: 0/0/0 buffer size: 0 vbv_delay: -1\n",
            "    Stream #0:1: Audio: aac (LC) (mp4a / 0x6134706D), 44100 Hz, mono, fltp, 69 kb/s\n",
            "    Metadata:\n",
            "      encoder         : Lavc58.54.100 aac\n",
            "frame= 2016 fps=226 q=-1.0 Lsize=    2312kB time=00:01:07.33 bitrate= 281.3kbits/s speed=7.56x    \n",
            "video:1674kB audio:571kB subtitle:0kB other streams:0kB global headers:0kB muxing overhead: 2.993337%\n",
            "\u001b[1;36m[libx264 @ 0x5af1e4878ac0] \u001b[0mframe I:9     Avg QP:18.27  size:  6899\n",
            "\u001b[1;36m[libx264 @ 0x5af1e4878ac0] \u001b[0mframe P:1206  Avg QP:23.12  size:  1114\n",
            "\u001b[1;36m[libx264 @ 0x5af1e4878ac0] \u001b[0mframe B:801   Avg QP:26.77  size:   384\n",
            "\u001b[1;36m[libx264 @ 0x5af1e4878ac0] \u001b[0mconsecutive B-frames: 42.2% 10.9% 11.0% 35.9%\n",
            "\u001b[1;36m[libx264 @ 0x5af1e4878ac0] \u001b[0mmb I  I16..4: 24.5% 56.6% 18.9%\n",
            "\u001b[1;36m[libx264 @ 0x5af1e4878ac0] \u001b[0mmb P  I16..4:  1.0%  3.2%  0.3%  P16..4: 18.0%  9.2%  5.6%  0.0%  0.0%    skip:62.6%\n",
            "\u001b[1;36m[libx264 @ 0x5af1e4878ac0] \u001b[0mmb B  I16..4:  0.2%  1.1%  0.1%  B16..8: 24.4%  3.7%  0.9%  direct: 0.6%  skip:69.0%  L0:47.1% L1:44.6% BI: 8.3%\n",
            "\u001b[1;36m[libx264 @ 0x5af1e4878ac0] \u001b[0m8x8 transform intra:70.5% inter:61.4%\n",
            "\u001b[1;36m[libx264 @ 0x5af1e4878ac0] \u001b[0mcoded y,uvDC,uvAC intra: 40.9% 35.5% 12.0% inter: 7.5% 4.9% 0.3%\n",
            "\u001b[1;36m[libx264 @ 0x5af1e4878ac0] \u001b[0mi16 v,h,dc,p: 51% 22% 14% 13%\n",
            "\u001b[1;36m[libx264 @ 0x5af1e4878ac0] \u001b[0mi8 v,h,dc,ddl,ddr,vr,hd,vl,hu: 29% 14% 45%  3%  2%  2%  2%  2%  2%\n",
            "\u001b[1;36m[libx264 @ 0x5af1e4878ac0] \u001b[0mi4 v,h,dc,ddl,ddr,vr,hd,vl,hu: 23% 26% 14%  4%  7%  8%  7%  5%  5%\n",
            "\u001b[1;36m[libx264 @ 0x5af1e4878ac0] \u001b[0mi8c dc,h,v,p: 54% 20% 23%  3%\n",
            "\u001b[1;36m[libx264 @ 0x5af1e4878ac0] \u001b[0mWeighted P-Frames: Y:0.1% UV:0.0%\n",
            "\u001b[1;36m[libx264 @ 0x5af1e4878ac0] \u001b[0mref P L0: 73.2% 12.6% 10.0%  4.3%  0.0%\n",
            "\u001b[1;36m[libx264 @ 0x5af1e4878ac0] \u001b[0mref B L0: 87.8%  9.3%  2.9%\n",
            "\u001b[1;36m[libx264 @ 0x5af1e4878ac0] \u001b[0mref B L1: 97.0%  3.0%\n",
            "\u001b[1;36m[libx264 @ 0x5af1e4878ac0] \u001b[0mkb/s:204.01\n",
            "\u001b[1;36m[aac @ 0x5af1e4866800] \u001b[0mQavg: 158.364\n"
          ]
        }
      ]
    }
  ]
}